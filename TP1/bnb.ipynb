{
 "cells": [
  {
   "cell_type": "markdown",
   "metadata": {},
   "source": [
    "# Branch and Bound method algorithm"
   ]
  },
  {
   "cell_type": "markdown",
   "metadata": {},
   "source": [
    "### Imports"
   ]
  },
  {
   "cell_type": "code",
   "execution_count": null,
   "metadata": {},
   "outputs": [],
   "source": [
    "import numpy as np"
   ]
  },
  {
   "cell_type": "markdown",
   "metadata": {},
   "source": [
    "### Definition of a node:"
   ]
  },
  {
   "cell_type": "code",
   "execution_count": null,
   "metadata": {},
   "outputs": [],
   "source": [
    "class Node:\n",
    "    def __init__(self, level, assigned_tasks, task_assignment, machine_load):\n",
    "        self.level = level\n",
    "        self.assigned_tasks = assigned_tasks\n",
    "        self.task_assignment = task_assignment\n",
    "        self.machine_load = machine_load"
   ]
  },
  {
   "cell_type": "markdown",
   "metadata": {},
   "source": [
    "### Function to calculate the upper bound:"
   ]
  },
  {
   "cell_type": "code",
   "execution_count": null,
   "metadata": {},
   "outputs": [],
   "source": [
    "def upperBound(processing_times, task_assignment, machine_load):\n",
    "    max_load = max(machine_load)\n",
    "    return max_load + max(processing_times[task_assignment])"
   ]
  },
  {
   "cell_type": "markdown",
   "metadata": {},
   "source": [
    "### Function to calculate lower bound:"
   ]
  },
  {
   "cell_type": "code",
   "execution_count": null,
   "metadata": {},
   "outputs": [],
   "source": [
    "def lowerBound(processing_times, task_assignment, machine_load):\n",
    "    lower_bound = sum(machine_load)\n",
    "    for i in range(len(processing_times)):\n",
    "        if i not in task_assignment:\n",
    "            lower_bound += min(processing_times[i])\n",
    "    return lower_bound"
   ]
  },
  {
   "cell_type": "markdown",
   "metadata": {},
   "source": [
    "### Branch and bound algorithm:"
   ]
  },
  {
   "cell_type": "code",
   "execution_count": null,
   "metadata": {},
   "outputs": [],
   "source": [
    "def branchAndBound(processing_times):\n",
    "    num_jobs = len(processing_times)\n",
    "    num_machines = len(processing_times[0])\n",
    "    \n",
    "    initial_node = Node(0, [], [-1] * num_jobs, [0] * num_machines)\n",
    "    active_nodes = [initial_node]\n",
    "    upper_bound = float('inf')\n",
    "    \n",
    "    while active_nodes:\n",
    "        current_node = active_nodes.pop(0)\n",
    "        if current_node.level == num_jobs:\n",
    "            upper_bound = min(upper_bound, max(current_node.machine_load))\n",
    "        else:\n",
    "            for i in range(num_machines):\n",
    "                next_load = current_node.machine_load[i] + processing_times[current_node.level][i]\n",
    "                if next_load < upper_bound:\n",
    "                    next_task_assignment = current_node.task_assignment.copy()\n",
    "                    next_task_assignment[current_node.level] = i\n",
    "                    next_machine_load = current_node.machine_load.copy()\n",
    "                    next_machine_load[i] = next_load\n",
    "                    next_node = Node(current_node.level + 1, \n",
    "                                     current_node.assigned_tasks + [current_node.level], \n",
    "                                     next_task_assignment, \n",
    "                                     next_machine_load)\n",
    "                    active_nodes.append(next_node)\n",
    "    \n",
    "    return upper_bound"
   ]
  },
  {
   "cell_type": "markdown",
   "metadata": {},
   "source": [
    "### Main function and test on benchmark:"
   ]
  },
  {
   "cell_type": "code",
   "execution_count": null,
   "metadata": {},
   "outputs": [],
   "source": [
    "if __name__ == \"__main__\":\n",
    "    # Example processing times for 20 jobs and 5 machines\n",
    "    np.random.seed(379008056)\n",
    "    processing_times = np.random.randint(1, 20, size=(5, 20))\n",
    "    print(\"Processing times:\\n\")\n",
    "    print(processing_times)\n",
    "\n",
    "    upper_bound = branchAndBound(processing_times)\n",
    "    print(\"Upper Bound:\", upper_bound)\n",
    "    lower_bound = lowerBound(processing_times, [], [0] * 5)\n",
    "    print(\"Lower Bound:\", lower_bound)"
   ]
  }
 ],
 "metadata": {
  "language_info": {
   "name": "python"
  }
 },
 "nbformat": 4,
 "nbformat_minor": 2
}
